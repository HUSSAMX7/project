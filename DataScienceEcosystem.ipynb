{
 "cells": [
  {
   "cell_type": "markdown",
   "id": "d54b9527-84b8-42c1-9e63-4033befb536a",
   "metadata": {
    "tags": []
   },
   "source": [
    "# Data Science Tools and Ecosystem"
   ]
  },
  {
   "cell_type": "markdown",
   "id": "cdea1f47-6491-4b27-9ed1-f3b3f6b16c90",
   "metadata": {},
   "source": [
    "In this notebook, Data Science Tools and Ecosystem are summarized."
   ]
  },
  {
   "cell_type": "markdown",
   "id": "8216247a-48ce-4ef2-a99c-97419414cbf4",
   "metadata": {},
   "source": [
    "**Objectives:**\n",
    "* List popular languages for Data Science\n",
    "* Some of the commonly used libraries used by Data Scientists include:\n",
    "* Data Science Tools"
   ]
  },
  {
   "cell_type": "markdown",
   "id": "adfd19f7-e848-4c7e-8b0f-e525bd4e6e09",
   "metadata": {},
   "source": [
    "Some of the popular languages that Data Scientists use are:\n",
    "1. R\n",
    "2. python\n",
    "3. java\n"
   ]
  },
  {
   "cell_type": "markdown",
   "id": "c5fa87a3-7f9d-4b7f-bd7c-ca726c48ad09",
   "metadata": {},
   "source": [
    "Some of the commonly used libraries used by Data Scientists include:\n",
    "1. caret\n",
    "2. ggplot\n",
    "3. Scikit"
   ]
  },
  {
   "cell_type": "markdown",
   "id": "8a3da0dd-a998-4d90-b9e1-814c402d09dd",
   "metadata": {},
   "source": [
    "|Data Science Tools|\n",
    "|------------------|\n",
    "|Jupyter Notebook|\n",
    "|RStudio|\n",
    "|Visual Studio Code|"
   ]
  },
  {
   "cell_type": "markdown",
   "id": "bd7ef456-1d65-417a-8398-c6c09be75b1a",
   "metadata": {
    "tags": []
   },
   "source": [
    "### Below are a few examples of evaluating arithmetic expressions in Python."
   ]
  },
  {
   "cell_type": "code",
   "execution_count": 13,
   "id": "8f5b099d-e5f4-4f63-9d38-1ceb5b9e6a84",
   "metadata": {
    "tags": []
   },
   "outputs": [
    {
     "data": {
      "text/plain": [
       "17"
      ]
     },
     "execution_count": 13,
     "metadata": {},
     "output_type": "execute_result"
    }
   ],
   "source": [
    "#This a simple arithmetic expression to mutiply then add integers\n",
    "(3*4)+5"
   ]
  },
  {
   "cell_type": "code",
   "execution_count": 14,
   "id": "10d7d877-f047-4f97-9226-8e97d6f442ef",
   "metadata": {
    "tags": []
   },
   "outputs": [
    {
     "name": "stdout",
     "output_type": "stream",
     "text": [
      "3.3333333333333335 minutes\n"
     ]
    }
   ],
   "source": [
    "#This will convert 200 minutes to hours by diving by 60\n",
    "y=200/60\n",
    "print(str(y)+ \" minutes\")"
   ]
  },
  {
   "cell_type": "markdown",
   "id": "91e9f594-0ff1-46d0-846b-e6d7bd7370e1",
   "metadata": {},
   "source": [
    "## Author \n",
    "HUSAM"
   ]
  }
 ],
 "metadata": {
  "kernelspec": {
   "display_name": "Python 3 (ipykernel)",
   "language": "python",
   "name": "python3"
  },
  "language_info": {
   "codemirror_mode": {
    "name": "ipython",
    "version": 3
   },
   "file_extension": ".py",
   "mimetype": "text/x-python",
   "name": "python",
   "nbconvert_exporter": "python",
   "pygments_lexer": "ipython3",
   "version": "3.11.5"
  }
 },
 "nbformat": 4,
 "nbformat_minor": 5
}
